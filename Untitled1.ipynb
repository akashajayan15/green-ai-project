{
 "cells": [
  {
   "cell_type": "code",
   "execution_count": 1,
   "id": "7d17c95c-d020-4955-a15f-18477679e302",
   "metadata": {},
   "outputs": [
    {
     "name": "stdout",
     "output_type": "stream",
     "text": [
      "Requirement already satisfied: numpy in c:\\users\\student\\anaconda3\\lib\\site-packages (1.26.4)\n",
      "Note: you may need to restart the kernel to use updated packages.\n"
     ]
    }
   ],
   "source": [
    "pip install numpy\n"
   ]
  },
  {
   "cell_type": "code",
   "execution_count": null,
   "id": "bc3c0664-93dd-4b0c-8317-17a7630f2809",
   "metadata": {},
   "outputs": [],
   "source": [
    "import numpy as np"
   ]
  },
  {
   "cell_type": "code",
   "execution_count": 5,
   "id": "e3a8bb78-b5d5-4068-b768-0e1fd02d1f7b",
   "metadata": {},
   "outputs": [
    {
     "name": "stdout",
     "output_type": "stream",
     "text": [
      "list [1, 2, 3]\n",
      "<class 'list'>\n",
      "number array: [1 2 3]\n",
      "<class 'numpy.ndarray'>\n"
     ]
    }
   ],
   "source": [
    "l=[1,2,3]\n",
    "print(\"list\",l)\n",
    "print(type(l))\n",
    "one_d_array = np.array(l)\n",
    "print(\"number array:\",arr)\n",
    "print(type(arr))"
   ]
  },
  {
   "cell_type": "code",
   "execution_count": 7,
   "id": "d2102935-6f3b-450e-b1aa-c9ce4c9fcce3",
   "metadata": {},
   "outputs": [
    {
     "name": "stdout",
     "output_type": "stream",
     "text": [
      "list ([1, 2], [3, 4], [5, 6], [7, 8])\n",
      "<class 'tuple'>\n",
      "number array: [[1 2]\n",
      " [3 4]\n",
      " [5 6]\n",
      " [7 8]]\n",
      "<class 'numpy.ndarray'>\n"
     ]
    }
   ],
   "source": [
    "l=[1,2],[3,4],[5,6],[7,8]\n",
    "\n",
    "print(type(l))\n",
    "arr = np.array(l)\n",
    "print(\"number array:\",arr)\n",
    "print(type(arr))"
   ]
  },
  {
   "cell_type": "code",
   "execution_count": 6,
   "id": "d6d99025-d53c-4500-b7b8-3e32cdf73105",
   "metadata": {},
   "outputs": [
    {
     "name": "stdout",
     "output_type": "stream",
     "text": [
      "list ([1, 2], [3, 4])\n",
      "<class 'tuple'>\n",
      "number array: [[1 2]\n",
      " [3 4]]\n",
      "<class 'numpy.ndarray'>\n"
     ]
    }
   ],
   "source": [
    "l=[1,2],[3,4]\n",
    "print(\"list\",l)\n",
    "print(type(l))\n",
    "arr = np.array(l)\n",
    "print(\"number array:\",arr)\n",
    "print(type(arr))"
   ]
  },
  {
   "cell_type": "code",
   "execution_count": 13,
   "id": "31a35a36-9e9f-4f04-a5dd-3af9d6a0dead",
   "metadata": {},
   "outputs": [
    {
     "name": "stdout",
     "output_type": "stream",
     "text": [
      "<class 'list'>\n",
      "[[[1 2]\n",
      "  [3 4]]\n",
      "\n",
      " [[5 6]\n",
      "  [7 8]]]\n",
      "<class 'numpy.ndarray'>\n"
     ]
    }
   ],
   "source": [
    "l=[[[1,2],[3,4]],[[5,6],[7,8]]]\n",
    "print(type(l))\n",
    "three_d_array = np.array(l)\n",
    "print(three_d_array)\n",
    "print(type(three_d_array))"
   ]
  },
  {
   "cell_type": "code",
   "execution_count": 17,
   "id": "a146551b-02ef-4831-8e8f-f31c3f6f9913",
   "metadata": {},
   "outputs": [
    {
     "ename": "NameError",
     "evalue": "name 'one_d_array' is not defined",
     "output_type": "error",
     "traceback": [
      "\u001b[1;31m---------------------------------------------------------------------------\u001b[0m",
      "\u001b[1;31mNameError\u001b[0m                                 Traceback (most recent call last)",
      "Cell \u001b[1;32mIn[17], line 1\u001b[0m\n\u001b[1;32m----> 1\u001b[0m \u001b[38;5;28mprint\u001b[39m(\u001b[38;5;124m\"\u001b[39m\u001b[38;5;124mone d array dimension\u001b[39m\u001b[38;5;124m\"\u001b[39m,one_d_array\u001b[38;5;241m.\u001b[39mndim)\n\u001b[0;32m      2\u001b[0m \u001b[38;5;28mprint\u001b[39m(\u001b[38;5;124m\"\u001b[39m\u001b[38;5;124mone d array dimension\u001b[39m\u001b[38;5;124m\"\u001b[39m,one_d_array\u001b[38;5;241m.\u001b[39msize)\n\u001b[0;32m      3\u001b[0m \u001b[38;5;28mprint\u001b[39m(\u001b[38;5;124m\"\u001b[39m\u001b[38;5;124mone d array dimension\u001b[39m\u001b[38;5;124m\"\u001b[39m,one_d_array\u001b[38;5;241m.\u001b[39mshape)\n",
      "\u001b[1;31mNameError\u001b[0m: name 'one_d_array' is not defined"
     ]
    }
   ],
   "source": [
    "print(\"one d array dimension\",one_d_array.ndim)\n",
    "print(\"one d array dimension\",one_d_array.size)\n",
    "print(\"one d array dimension\",one_d_array.shape)\n",
    "print(\"two d array dimension\",two_d_array.ndim)\n",
    "print(\"two d array dimension\",two_d_array.size)\n",
    "print(\"two d array dimension\",two_d_array.shape)\n",
    "print(\"three d array dimension\",three_d_array.ndim)\n",
    "print(\"three d array dimension\",three_d_array.size)\n",
    "print(\"three array dimension\",three_d_array.shape)\n",
    "\n"
   ]
  },
  {
   "cell_type": "code",
   "execution_count": null,
   "id": "00dac1d1-64ee-48fe-b07a-0a9828f2f597",
   "metadata": {},
   "outputs": [],
   "source": [
    "import sys\n",
    "sample_list = [0,1,2,3,4,5,6,7,8,9]\n",
    "print(\"memory cons by an element\",sys.getsizeof(sample_list[0]))\n",
    "print(\"Total Memory usage\",numpy_array.itemsize*numpy_array.size\n",
    "      "
   ]
  },
  {
   "cell_type": "code",
   "execution_count": 19,
   "id": "cb8d2b1f-5e9d-450f-839b-741ff663d07c",
   "metadata": {},
   "outputs": [
    {
     "name": "stdout",
     "output_type": "stream",
     "text": [
      "memory cons by an element 4\n",
      "total memory usage 40\n"
     ]
    }
   ],
   "source": [
    "numpy_array=np.array([0,1,2,3,4,5,6,7,8,9])\n",
    "sample_list = [0,1,2,3,4,5,6,7,8,9]\n",
    "print(\"memory cons by an element\",numpy_array.itemsize)\n",
    "print(\"total memory usage\",numpy_array.itemsize*numpy_array.size)"
   ]
  },
  {
   "cell_type": "code",
   "execution_count": null,
   "id": "cbb8a95c-cd06-4a15-a433-2cd474636da3",
   "metadata": {},
   "outputs": [],
   "source": []
  }
 ],
 "metadata": {
  "kernelspec": {
   "display_name": "Python 3 (ipykernel)",
   "language": "python",
   "name": "python3"
  },
  "language_info": {
   "codemirror_mode": {
    "name": "ipython",
    "version": 3
   },
   "file_extension": ".py",
   "mimetype": "text/x-python",
   "name": "python",
   "nbconvert_exporter": "python",
   "pygments_lexer": "ipython3",
   "version": "3.12.7"
  }
 },
 "nbformat": 4,
 "nbformat_minor": 5
}
