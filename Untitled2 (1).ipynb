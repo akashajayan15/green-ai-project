{
 "cells": [
  {
   "cell_type": "code",
   "execution_count": 4,
   "id": "d093f167-72c3-4724-ad97-3b887d4d4475",
   "metadata": {},
   "outputs": [
    {
     "name": "stdin",
     "output_type": "stream",
     "text": [
      "enter a number 1234\n"
     ]
    },
    {
     "name": "stdout",
     "output_type": "stream",
     "text": [
      "products of digits: 24\n"
     ]
    }
   ],
   "source": [
    "#product of using while loop\n",
    "n=int(input(\"enter a number\"))\n",
    "s=1\n",
    "while(n>0):\n",
    "    digit=n%10\n",
    "    s=s*digit\n",
    "    n=n//10\n",
    "print(\"products of digits:\",s)\n",
    "    "
   ]
  },
  {
   "cell_type": "code",
   "execution_count": 7,
   "id": "d5d8f314-ecae-4561-9df2-dd57fe72b12b",
   "metadata": {},
   "outputs": [
    {
     "name": "stdin",
     "output_type": "stream",
     "text": [
      "enter a number 1234\n"
     ]
    },
    {
     "name": "stdout",
     "output_type": "stream",
     "text": [
      "24\n"
     ]
    }
   ],
   "source": [
    "#product of usingfor loop\n",
    "num=(input(\"enter a number\"))\n",
    "s=1\n",
    "for i in num:\n",
    "    s=s*int(i)\n",
    "print(s)"
   ]
  },
  {
   "cell_type": "code",
   "execution_count": 13,
   "id": "5ef5dd4c-1020-4bcc-977e-06294b37f34c",
   "metadata": {},
   "outputs": [
    {
     "name": "stdin",
     "output_type": "stream",
     "text": [
      "enter a number 24\n"
     ]
    },
    {
     "name": "stdout",
     "output_type": "stream",
     "text": [
      "even number\n"
     ]
    }
   ],
   "source": [
    "a=int(input(\"enter a number\"))\n",
    "if a %2==0:\n",
    "   print(\"even number\")\n",
    "else:\n",
    "    print(\"odd number\")"
   ]
  },
  {
   "cell_type": "code",
   "execution_count": 14,
   "id": "7d295ea2-398b-4042-8362-01ed94adef86",
   "metadata": {},
   "outputs": [
    {
     "name": "stdout",
     "output_type": "stream",
     "text": [
      "sum 625\n"
     ]
    }
   ],
   "source": [
    "#find sum of all odd number between 1 and 15 using for loop\n",
    "p=0\n",
    "for i in range (1,51,2):\n",
    "   p=p+i\n",
    "print(\"sum\",p)\n",
    "        \n",
    "    \n"
   ]
  },
  {
   "cell_type": "code",
   "execution_count": 16,
   "id": "94407008-85af-4992-bf42-2fede213eeb9",
   "metadata": {},
   "outputs": [
    {
     "name": "stdout",
     "output_type": "stream",
     "text": [
      "sum 600\n"
     ]
    }
   ],
   "source": [
    "#find sum of all even number between 1 and 15 using for loop\n",
    "p=0\n",
    "for i in range(1,50):\n",
    "    if i%2==0:\n",
    "        p+=i\n",
    "print(\"sum\",p)        "
   ]
  },
  {
   "cell_type": "code",
   "execution_count": 33,
   "id": "77902d1d-5ea9-4294-b9ad-fa0e5f78a05c",
   "metadata": {},
   "outputs": [
    {
     "name": "stdin",
     "output_type": "stream",
     "text": [
      "enter the number 5\n"
     ]
    },
    {
     "name": "stdout",
     "output_type": "stream",
     "text": [
      "sum 10\n"
     ]
    }
   ],
   "source": [
    "#find the sum of n natural numbers\n",
    "n=int(input(\"enter the number\"))\n",
    "s=0\n",
    "for i in range (0,n):\n",
    "    s=s+i\n",
    "print(\"sum\",s)"
   ]
  },
  {
   "cell_type": "code",
   "execution_count": 36,
   "id": "3984e2e3-67e2-4578-bcbf-dca864cb7508",
   "metadata": {},
   "outputs": [
    {
     "name": "stdin",
     "output_type": "stream",
     "text": [
      "enter the number 765\n"
     ]
    },
    {
     "name": "stdout",
     "output_type": "stream",
     "text": [
      "567\n"
     ]
    }
   ],
   "source": [
    "#program to reverse a number using while loop\n",
    "n=int (input(\"enter the number\"))\n",
    "rev=0\n",
    "while(n>0):\n",
    "    r=n%10\n",
    "    rev=rev*10+r\n",
    "    n=n//10\n",
    "print(rev)    \n"
   ]
  },
  {
   "cell_type": "code",
   "execution_count": 37,
   "id": "bb13d737-0b8c-405a-b884-bff8becaad65",
   "metadata": {},
   "outputs": [
    {
     "name": "stdin",
     "output_type": "stream",
     "text": [
      "enter the number 5\n"
     ]
    },
    {
     "name": "stdout",
     "output_type": "stream",
     "text": [
      "120\n"
     ]
    }
   ],
   "source": [
    "#write a python program to find the factorial of given number\n",
    "num=int(input(\"enter the number\"))\n",
    "factorial=1\n",
    "\n",
    "\n",
    "for i in range(1,num+1):\n",
    "    factorial*=i\n",
    "\n",
    "print(factorial)\n"
   ]
  },
  {
   "cell_type": "code",
   "execution_count": 39,
   "id": "32869b7c-1a5a-4d5e-a104-08f2962b0fff",
   "metadata": {},
   "outputs": [
    {
     "name": "stdin",
     "output_type": "stream",
     "text": [
      "enter a number: 90\n"
     ]
    },
    {
     "name": "stdout",
     "output_type": "stream",
     "text": [
      "[1, 2, 3, 4, 5, 6, 7, 8, 9, 10, 11, 12, 13, 14, 15, 16, 17, 18, 19, 20, 21, 22, 23, 24, 25, 26, 27, 28, 29, 30, 31, 32, 33, 34, 35, 36, 37, 38, 39, 40, 41, 42, 43, 44, 45, 46, 47, 48, 49, 50, 51, 52, 53, 54, 55, 56, 57, 58, 59, 60, 61, 62, 63, 64, 65, 66, 67, 68, 69, 70, 71, 72, 73, 74, 75, 76, 77, 78, 79, 80, 81, 82, 83, 84, 85, 86, 87, 88, 89, 90]\n"
     ]
    }
   ],
   "source": [
    "def factors(n):\n",
    "    factorlist=[]\n",
    "    for i in range(1,n+1):\n",
    "        if n%1 == 0:\n",
    "            factorlist.append(i)\n",
    "    return (factorlist)\n",
    "n=int(input(\"enter a number:\"))\n",
    "print(factors(n))\n",
    "            "
   ]
  },
  {
   "cell_type": "code",
   "execution_count": null,
   "id": "81a67177-dc63-4e45-8a24-3d2c2a258425",
   "metadata": {},
   "outputs": [],
   "source": []
  }
 ],
 "metadata": {
  "kernelspec": {
   "display_name": "Python 3 (ipykernel)",
   "language": "python",
   "name": "python3"
  },
  "language_info": {
   "codemirror_mode": {
    "name": "ipython",
    "version": 3
   },
   "file_extension": ".py",
   "mimetype": "text/x-python",
   "name": "python",
   "nbconvert_exporter": "python",
   "pygments_lexer": "ipython3",
   "version": "3.12.7"
  }
 },
 "nbformat": 4,
 "nbformat_minor": 5
}
